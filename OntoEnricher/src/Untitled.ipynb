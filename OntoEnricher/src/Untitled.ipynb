{
 "cells": [
  {
   "cell_type": "code",
   "execution_count": 13,
   "metadata": {},
   "outputs": [
    {
     "name": "stdout",
     "output_type": "stream",
     "text": [
      "19193456\t23452389\t9668810\n",
      "663726\t9048846\t4107215\n",
      "6178566\t6097931\t8733868\n",
      "8184873\t13389052\t6536081\n",
      "5933740\t15640897\t8593453\n",
      "1837912\t2946514\t9443662\n",
      "16864707\t22008180\t11071817\n",
      "13583494\t15294065\t657327\n",
      "18679314\t8042043\t11954734\n",
      "18679314\t8042040\t11954736\n",
      "18679314\t8042043\t11954739\n"
     ]
    }
   ],
   "source": [
    "parsed_file = \"test_file\"\n",
    "word_occurence_map = {}\n",
    "\n",
    "with open(parsed_file) as inp:\n",
    "    prev_line, prev_count = '', 0\n",
    "    for line in inp:\n",
    "        curr_line = \"\\t\".join(line.strip().split(\"\\t\")[:-1])\n",
    "        if curr_line == prev_line or (not prev_line):\n",
    "            prev_count += int(line.strip().split(\"\\t\")[-1])\n",
    "        else:\n",
    "            print (curr_line)\n",
    "            x, y, path = prev_line.split('\\t')\n",
    "            key = str(x) + '_' + str(y)\n",
    "            current = path + \":\" + str(prev_count)\n",
    "            if key in word_occurence_map:\n",
    "                pastkeys = word_occurence_map[key]\n",
    "                current =  pastkeys + ',' + current\n",
    "            word_occurence_map[key] = current\n",
    "            prev_count = 1\n",
    "        prev_line = curr_line\n",
    "    x, y, path = prev_line.split('\\t')\n",
    "    key = str(x) + '_' + str(y)\n",
    "    current = path + \":\" + str(prev_count)\n",
    "    if key in word_occurence_map:\n",
    "        pastkeys = word_occurence_map[key]\n",
    "        current =  pastkeys + ',' + current\n",
    "    word_occurence_map[key] = current"
   ]
  },
  {
   "cell_type": "code",
   "execution_count": null,
   "metadata": {},
   "outputs": [],
   "source": [
    "from difflib import SequenceMatcher\n",
    "return max([(word, SequenceMatcher(lambda x: x == \" \", word_to_compare, word).ratio()) for word in words], lambda l:float(l[1]))\n",
    "\n"
   ]
  },
  {
   "cell_type": "code",
   "execution_count": null,
   "metadata": {},
   "outputs": [],
   "source": []
  }
 ],
 "metadata": {
  "kernelspec": {
   "display_name": "Python 3",
   "language": "python",
   "name": "python3"
  },
  "language_info": {
   "codemirror_mode": {
    "name": "ipython",
    "version": 3
   },
   "file_extension": ".py",
   "mimetype": "text/x-python",
   "name": "python",
   "nbconvert_exporter": "python",
   "pygments_lexer": "ipython3",
   "version": "3.6.9"
  }
 },
 "nbformat": 4,
 "nbformat_minor": 4
}
