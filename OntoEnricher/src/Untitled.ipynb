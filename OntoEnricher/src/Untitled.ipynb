{
 "cells": [
  {
   "cell_type": "code",
   "execution_count": 13,
   "metadata": {},
   "outputs": [
    {
     "name": "stdout",
     "output_type": "stream",
     "text": [
      "19193456\t23452389\t9668810\n",
      "663726\t9048846\t4107215\n",
      "6178566\t6097931\t8733868\n",
      "8184873\t13389052\t6536081\n",
      "5933740\t15640897\t8593453\n",
      "1837912\t2946514\t9443662\n",
      "16864707\t22008180\t11071817\n",
      "13583494\t15294065\t657327\n",
      "18679314\t8042043\t11954734\n",
      "18679314\t8042040\t11954736\n",
      "18679314\t8042043\t11954739\n"
     ]
    }
   ],
   "source": [
    "parsed_file = \"test_file\"\n",
    "word_occurence_map = {}\n",
    "\n",
    "with open(parsed_file) as inp:\n",
    "    prev_line, prev_count = '', 0\n",
    "    for line in inp:\n",
    "        curr_line = \"\\t\".join(line.strip().split(\"\\t\")[:-1])\n",
    "        if curr_line == prev_line or (not prev_line):\n",
    "            prev_count += int(line.strip().split(\"\\t\")[-1])\n",
    "        else:\n",
    "            print (curr_line)\n",
    "            x, y, path = prev_line.split('\\t')\n",
    "            key = str(x) + '_' + str(y)\n",
    "            current = path + \":\" + str(prev_count)\n",
    "            if key in word_occurence_map:\n",
    "                pastkeys = word_occurence_map[key]\n",
    "                current =  pastkeys + ',' + current\n",
    "            word_occurence_map[key] = current\n",
    "            prev_count = 1\n",
    "        prev_line = curr_line\n",
    "    x, y, path = prev_line.split('\\t')\n",
    "    key = str(x) + '_' + str(y)\n",
    "    current = path + \":\" + str(prev_count)\n",
    "    if key in word_occurence_map:\n",
    "        pastkeys = word_occurence_map[key]\n",
    "        current =  pastkeys + ',' + current\n",
    "    word_occurence_map[key] = current\n",
    "    \n"
   ]
  },
  {
   "cell_type": "code",
   "execution_count": 23,
   "metadata": {},
   "outputs": [
    {
     "ename": "KeyboardInterrupt",
     "evalue": "",
     "output_type": "error",
     "traceback": [
      "\u001b[0;31m---------------------------------------------------------------------------\u001b[0m",
      "\u001b[0;31mKeyboardInterrupt\u001b[0m                         Traceback (most recent call last)",
      "\u001b[0;32m<ipython-input-23-32615c657697>\u001b[0m in \u001b[0;36m<module>\u001b[0;34m\u001b[0m\n\u001b[1;32m     19\u001b[0m                 \u001b[0;32mif\u001b[0m \u001b[0mk\u001b[0m \u001b[0;32mand\u001b[0m \u001b[0mp\u001b[0m\u001b[0;34m[\u001b[0m\u001b[0mk\u001b[0m\u001b[0;34m]\u001b[0m\u001b[0;34m:\u001b[0m\u001b[0;34m\u001b[0m\u001b[0;34m\u001b[0m\u001b[0m\n\u001b[0;32m---> 20\u001b[0;31m                     \u001b[0mdb\u001b[0m\u001b[0;34m[\u001b[0m\u001b[0mstr\u001b[0m\u001b[0;34m(\u001b[0m\u001b[0mk\u001b[0m\u001b[0;34m)\u001b[0m\u001b[0;34m]\u001b[0m \u001b[0;34m=\u001b[0m \u001b[0mstr\u001b[0m\u001b[0;34m(\u001b[0m\u001b[0mp\u001b[0m\u001b[0;34m[\u001b[0m\u001b[0mk\u001b[0m\u001b[0;34m]\u001b[0m\u001b[0;34m)\u001b[0m\u001b[0;34m\u001b[0m\u001b[0;34m\u001b[0m\u001b[0m\n\u001b[0m\u001b[1;32m     21\u001b[0m \u001b[0;34m\u001b[0m\u001b[0m\n",
      "\u001b[0;32m/usr/lib/python3.6/shelve.py\u001b[0m in \u001b[0;36m__setitem__\u001b[0;34m(self, key, value)\u001b[0m\n\u001b[1;32m    124\u001b[0m         \u001b[0mp\u001b[0m\u001b[0;34m.\u001b[0m\u001b[0mdump\u001b[0m\u001b[0;34m(\u001b[0m\u001b[0mvalue\u001b[0m\u001b[0;34m)\u001b[0m\u001b[0;34m\u001b[0m\u001b[0;34m\u001b[0m\u001b[0m\n\u001b[0;32m--> 125\u001b[0;31m         \u001b[0mself\u001b[0m\u001b[0;34m.\u001b[0m\u001b[0mdict\u001b[0m\u001b[0;34m[\u001b[0m\u001b[0mkey\u001b[0m\u001b[0;34m.\u001b[0m\u001b[0mencode\u001b[0m\u001b[0;34m(\u001b[0m\u001b[0mself\u001b[0m\u001b[0;34m.\u001b[0m\u001b[0mkeyencoding\u001b[0m\u001b[0;34m)\u001b[0m\u001b[0;34m]\u001b[0m \u001b[0;34m=\u001b[0m \u001b[0mf\u001b[0m\u001b[0;34m.\u001b[0m\u001b[0mgetvalue\u001b[0m\u001b[0;34m(\u001b[0m\u001b[0;34m)\u001b[0m\u001b[0;34m\u001b[0m\u001b[0;34m\u001b[0m\u001b[0m\n\u001b[0m\u001b[1;32m    126\u001b[0m \u001b[0;34m\u001b[0m\u001b[0m\n",
      "\u001b[0;31mKeyboardInterrupt\u001b[0m: ",
      "\nDuring handling of the above exception, another exception occurred:\n",
      "\u001b[0;31mKeyboardInterrupt\u001b[0m                         Traceback (most recent call last)",
      "\u001b[0;32m<ipython-input-23-32615c657697>\u001b[0m in \u001b[0;36m<module>\u001b[0;34m\u001b[0m\n\u001b[1;32m     18\u001b[0m \u001b[0;34m\u001b[0m\u001b[0m\n\u001b[1;32m     19\u001b[0m                 \u001b[0;32mif\u001b[0m \u001b[0mk\u001b[0m \u001b[0;32mand\u001b[0m \u001b[0mp\u001b[0m\u001b[0;34m[\u001b[0m\u001b[0mk\u001b[0m\u001b[0;34m]\u001b[0m\u001b[0;34m:\u001b[0m\u001b[0;34m\u001b[0m\u001b[0;34m\u001b[0m\u001b[0m\n\u001b[0;32m---> 20\u001b[0;31m                     \u001b[0mdb\u001b[0m\u001b[0;34m[\u001b[0m\u001b[0mstr\u001b[0m\u001b[0;34m(\u001b[0m\u001b[0mk\u001b[0m\u001b[0;34m)\u001b[0m\u001b[0;34m]\u001b[0m \u001b[0;34m=\u001b[0m \u001b[0mstr\u001b[0m\u001b[0;34m(\u001b[0m\u001b[0mp\u001b[0m\u001b[0;34m[\u001b[0m\u001b[0mk\u001b[0m\u001b[0;34m]\u001b[0m\u001b[0;34m)\u001b[0m\u001b[0;34m\u001b[0m\u001b[0;34m\u001b[0m\u001b[0m\n\u001b[0m\u001b[1;32m     21\u001b[0m \u001b[0;34m\u001b[0m\u001b[0m\n\u001b[1;32m     22\u001b[0m \u001b[0;34m\u001b[0m\u001b[0m\n",
      "\u001b[0;32m/usr/lib/python3.6/shelve.py\u001b[0m in \u001b[0;36m__exit__\u001b[0;34m(self, type, value, traceback)\u001b[0m\n\u001b[1;32m    136\u001b[0m \u001b[0;34m\u001b[0m\u001b[0m\n\u001b[1;32m    137\u001b[0m     \u001b[0;32mdef\u001b[0m \u001b[0m__exit__\u001b[0m\u001b[0;34m(\u001b[0m\u001b[0mself\u001b[0m\u001b[0;34m,\u001b[0m \u001b[0mtype\u001b[0m\u001b[0;34m,\u001b[0m \u001b[0mvalue\u001b[0m\u001b[0;34m,\u001b[0m \u001b[0mtraceback\u001b[0m\u001b[0;34m)\u001b[0m\u001b[0;34m:\u001b[0m\u001b[0;34m\u001b[0m\u001b[0;34m\u001b[0m\u001b[0m\n\u001b[0;32m--> 138\u001b[0;31m         \u001b[0mself\u001b[0m\u001b[0;34m.\u001b[0m\u001b[0mclose\u001b[0m\u001b[0;34m(\u001b[0m\u001b[0;34m)\u001b[0m\u001b[0;34m\u001b[0m\u001b[0;34m\u001b[0m\u001b[0m\n\u001b[0m\u001b[1;32m    139\u001b[0m \u001b[0;34m\u001b[0m\u001b[0m\n\u001b[1;32m    140\u001b[0m     \u001b[0;32mdef\u001b[0m \u001b[0mclose\u001b[0m\u001b[0;34m(\u001b[0m\u001b[0mself\u001b[0m\u001b[0;34m)\u001b[0m\u001b[0;34m:\u001b[0m\u001b[0;34m\u001b[0m\u001b[0;34m\u001b[0m\u001b[0m\n",
      "\u001b[0;32m/usr/lib/python3.6/shelve.py\u001b[0m in \u001b[0;36mclose\u001b[0;34m(self)\u001b[0m\n\u001b[1;32m    142\u001b[0m             \u001b[0;32mreturn\u001b[0m\u001b[0;34m\u001b[0m\u001b[0;34m\u001b[0m\u001b[0m\n\u001b[1;32m    143\u001b[0m         \u001b[0;32mtry\u001b[0m\u001b[0;34m:\u001b[0m\u001b[0;34m\u001b[0m\u001b[0;34m\u001b[0m\u001b[0m\n\u001b[0;32m--> 144\u001b[0;31m             \u001b[0mself\u001b[0m\u001b[0;34m.\u001b[0m\u001b[0msync\u001b[0m\u001b[0;34m(\u001b[0m\u001b[0;34m)\u001b[0m\u001b[0;34m\u001b[0m\u001b[0;34m\u001b[0m\u001b[0m\n\u001b[0m\u001b[1;32m    145\u001b[0m             \u001b[0;32mtry\u001b[0m\u001b[0;34m:\u001b[0m\u001b[0;34m\u001b[0m\u001b[0;34m\u001b[0m\u001b[0m\n\u001b[1;32m    146\u001b[0m                 \u001b[0mself\u001b[0m\u001b[0;34m.\u001b[0m\u001b[0mdict\u001b[0m\u001b[0;34m.\u001b[0m\u001b[0mclose\u001b[0m\u001b[0;34m(\u001b[0m\u001b[0;34m)\u001b[0m\u001b[0;34m\u001b[0m\u001b[0;34m\u001b[0m\u001b[0m\n",
      "\u001b[0;32m/usr/lib/python3.6/shelve.py\u001b[0m in \u001b[0;36msync\u001b[0;34m(self)\u001b[0m\n\u001b[1;32m    170\u001b[0m             \u001b[0mself\u001b[0m\u001b[0;34m.\u001b[0m\u001b[0mcache\u001b[0m \u001b[0;34m=\u001b[0m \u001b[0;34m{\u001b[0m\u001b[0;34m}\u001b[0m\u001b[0;34m\u001b[0m\u001b[0;34m\u001b[0m\u001b[0m\n\u001b[1;32m    171\u001b[0m         \u001b[0;32mif\u001b[0m \u001b[0mhasattr\u001b[0m\u001b[0;34m(\u001b[0m\u001b[0mself\u001b[0m\u001b[0;34m.\u001b[0m\u001b[0mdict\u001b[0m\u001b[0;34m,\u001b[0m \u001b[0;34m'sync'\u001b[0m\u001b[0;34m)\u001b[0m\u001b[0;34m:\u001b[0m\u001b[0;34m\u001b[0m\u001b[0;34m\u001b[0m\u001b[0m\n\u001b[0;32m--> 172\u001b[0;31m             \u001b[0mself\u001b[0m\u001b[0;34m.\u001b[0m\u001b[0mdict\u001b[0m\u001b[0;34m.\u001b[0m\u001b[0msync\u001b[0m\u001b[0;34m(\u001b[0m\u001b[0;34m)\u001b[0m\u001b[0;34m\u001b[0m\u001b[0;34m\u001b[0m\u001b[0m\n\u001b[0m\u001b[1;32m    173\u001b[0m \u001b[0;34m\u001b[0m\u001b[0m\n\u001b[1;32m    174\u001b[0m \u001b[0;34m\u001b[0m\u001b[0m\n",
      "\u001b[0;31mKeyboardInterrupt\u001b[0m: "
     ]
    }
   ],
   "source": [
    "import sys, shelve, picklw\n",
    "file = \"damru\"\n",
    "p = pickle.load(open(file, 'rb'))\n",
    "db_file = \".\".join(file.split(\".\")[:-1]) + \".db\" \n",
    "with shelve.open(db_file, 'c') as db:\n",
    "    for k in p:\n",
    "        try:\n",
    "            p[k] = p[k].decode(\"utf-8\")\n",
    "        except:\n",
    "            pass\n",
    "        try:\n",
    "            k = k.decode(\"utf-8\")\n",
    "        except:\n",
    "            pass\n",
    "\n",
    "        if k and p[k]:\n",
    "            db[str(k)] = str(p[k])\n",
    "print (\"db_file\", db_file, \"done\")"
   ]
  },
  {
   "cell_type": "code",
   "execution_count": null,
   "metadata": {},
   "outputs": [],
   "source": [
    "import os,shelve\n",
    "folders = [\"../junk/Files/\" + l + \"/\" for l in os.listdir(\"../junk/Files/\") if l.startswith(\"security_threshold_\")]\n",
    "\n",
    "passed1 = []\n",
    "for f in folders:\n",
    "    if len(list(shelve.open(f + \"security_relations_map.db\", \"r\").items())):\n",
    "        passed1.append(f)\n",
    "\n",
    "print (\"Folders having uncorrupted relation dict {}/{}\".format(len(passed1), len(folders)))\n",
    "\n",
    "passed2 = []\n",
    "for f in passed1:\n",
    "    if len(list(shelve.open(f + \"security_path_to_id_dict.db\", \"r\").items())) and len(list(shelve.open(f + \"security_id_to_path_dict.db\", \"r\").items())):\n",
    "        passed2.append(f)\n",
    "\n",
    "print (\"Folders having uncorrupted path-to-id dict {}/{}\".format(len(passed2), len(folders)))\n",
    "\n",
    "passed3,passed4, passed5 = [], [], []\n",
    "\n",
    "for f in passed2:\n",
    "    s1 = list(shelve.open(f + \"security_id_to_word_dict.db\", \"r\").keys())\n",
    "    s2 = list(shelve.open(f + \"security_word_to_id_dict.db\", \"r\").values())\n",
    "    if len(s1) and len(s2):\n",
    "        passed3.append(f)\n",
    "        s1_sort = sorted(s1, key=lambda l:float(l))\n",
    "        s2_sort = sorted(s2, key=lambda l:float(l))\n",
    "        if s1_sort[0] == 0 and s2_sort[0] == 0:\n",
    "            passed4.append(f)\n",
    "        if s1_sort == s2_sort:\n",
    "            passed5.append(f)\n",
    "\n",
    "\n",
    "print (\"Folders having uncorrupted word-to-id dict {}/{}\".format(len(passed3), len(folders)))\n",
    "print (\"Folders having zero-indexed word-to-id dict {}/{}\".format(len(passed4), len(folders)))\n",
    "print (\"Folders having equal word-to-id and id-to-word dicts {}/{}\".format(len(passed5), len(folders)))\n",
    "\n"
   ]
  },
  {
   "cell_type": "code",
   "execution_count": 7,
   "metadata": {},
   "outputs": [
    {
     "name": "stdout",
     "output_type": "stream",
     "text": [
      "Folders having uncorrupted relation dict 2/4\n"
     ]
    }
   ],
   "source": [
    "print (\"Folders having uncorrupted relation dict {}/{}\".format(2, 4))"
   ]
  },
  {
   "cell_type": "code",
   "execution_count": 11,
   "metadata": {},
   "outputs": [
    {
     "data": {
      "text/plain": [
       "33268"
      ]
     },
     "execution_count": 11,
     "metadata": {},
     "output_type": "execute_result"
    }
   ],
   "source": [
    "dataset = open(\"../files/dataset/dataset.tsv\").read().split(\"\\n\")\n",
    "dataset_t = [l for l in dataset if l.split(\"\\t\")[-1]!=\"none\"]\n",
    "dataset_f = [l for l in dataset if l.split(\"\\t\")[-1]==\"none\"]\n",
    "import random\n",
    "dataset_t_mini = random.choices(dataset_t, k=int(0.1 * len(dataset_t)))\n",
    "dataset_f_mini = random.choices(dataset_f, k=10000-int(0.1 * len(dataset_t)))\n",
    "dataset_mini = dataset_t_mini + dataset_f_mini\n",
    "random.shuffle(dataset_mini)\n",
    "open(\"../files/dataset/dataset_mini.tsv\",\"w+\").write(\"\\n\".join(dataset_mini))\n",
    "open(\"../files/dataset/train_mini.tsv\",\"w+\").write(\"\\n\".join(dataset_mini[:int(0.9*len(dataset_mini))]))\n",
    "open(\"../files/dataset/test_mini.tsv\",\"w+\").write(\"\\n\".join(dataset_mini[int(0.9*len(dataset_mini)):]))"
   ]
  },
  {
   "cell_type": "code",
   "execution_count": 26,
   "metadata": {},
   "outputs": [],
   "source": [
    "from pronto import Ontology\n",
    "import re\n",
    "\n",
    "def camel_case_split(identifier):\n",
    "    matches = re.finditer('.+?(?:(?<=[a-z])(?=[A-Z])|(?<=[A-Z])(?=[A-Z][a-z])|$)', identifier)\n",
    "    return \" \".join([m.group(0).lower() for m in matches])\n",
    "\n",
    "ont = Ontology(\"/Users/vivek/SIREN-Research/securityontology.owl\")\n",
    "ontology = [camel_case_split(a.id.split(\"#\")[-1])+\"\\tcontrol\\thypernym\" for a in ont.terms()]\n",
    "import itertools\n",
    "\n",
    "ontology = list(itertools.chain.from_iterable(itertools.repeat(x, 3) for x in ontology))"
   ]
  },
  {
   "cell_type": "code",
   "execution_count": 46,
   "metadata": {},
   "outputs": [],
   "source": [
    "lines = [l for l in open(\"temp_policy\",\"r\").read().split(\"\\n\") if \"policy\" in l.split(\"\\t\")[0]]\n",
    "final = []\n",
    "for l in lines:\n",
    "    final.append(l.split(\"\\t\")[0] + \"\\tpolicy\\thypernym\")\n",
    "    final.append(\" \".join(l.split(\"\\t\")[0].split()[:-1]) + \"\\tpolicy\\thypernym\")\n",
    "    final.append(l.split(\"\\t\")[0] + \"\\tintangible asset\\thypernym\")\n",
    "    final.append(\" \".join(l.split(\"\\t\")[0].split()[:-1]) + \"\\tintangible asset\\thypernym\")\n",
    "    final.append(l.split(\"\\t\")[0] + \"\\tasset\\thypernym\")\n",
    "    final.append(\" \".join(l.split(\"\\t\")[0].split()[:-1]) + \"\\tasset\\thypernym\")\n",
    "    "
   ]
  },
  {
   "cell_type": "code",
   "execution_count": 47,
   "metadata": {},
   "outputs": [
    {
     "data": {
      "text/plain": [
       "15077"
      ]
     },
     "execution_count": 47,
     "metadata": {},
     "output_type": "execute_result"
    }
   ],
   "source": [
    "open(\"../junk/policy\",\"w+\").write(\"\\n\".join(final))"
   ]
  },
  {
   "cell_type": "code",
   "execution_count": 52,
   "metadata": {},
   "outputs": [
    {
     "data": {
      "text/plain": [
       "287258"
      ]
     },
     "execution_count": 52,
     "metadata": {},
     "output_type": "execute_result"
    }
   ],
   "source": [
    "lines = [l.split(\"\\t\") for l in open(\"../files/dataset/test_knocked.tsv\",\"r\").read().split(\"\\n\")]\n",
    "final_lines = []\n",
    "for l in lines:\n",
    "    final_lines.append(\"\\t\".join(l))\n",
    "    final_lines.append(\"\\t\".join(l[:2][::-1] + [l[2].replace(\"concept\", \"instance\").replace(\"hypernym\", \"hyponym\")]))\n",
    "final_lines = sorted(list(set(final_lines)))\n",
    "open(\"../files/dataset/test_knocked.tsv\",\"w+\").write(\"\\n\".join(final_lines))"
   ]
  },
  {
   "cell_type": "code",
   "execution_count": 51,
   "metadata": {},
   "outputs": [
    {
     "data": {
      "text/plain": [
       "(5910, 5562)"
      ]
     },
     "execution_count": 51,
     "metadata": {},
     "output_type": "execute_result"
    }
   ],
   "source": [
    "len(final_lines), len(list(set(final_lines)))"
   ]
  },
  {
   "cell_type": "code",
   "execution_count": null,
   "metadata": {},
   "outputs": [],
   "source": []
  }
 ],
 "metadata": {
  "kernelspec": {
   "display_name": "Python 3",
   "language": "python",
   "name": "python3"
  },
  "language_info": {
   "codemirror_mode": {
    "name": "ipython",
    "version": 3
   },
   "file_extension": ".py",
   "mimetype": "text/x-python",
   "name": "python",
   "nbconvert_exporter": "python",
   "pygments_lexer": "ipython3",
   "version": "3.6.9"
  }
 },
 "nbformat": 4,
 "nbformat_minor": 4
}
