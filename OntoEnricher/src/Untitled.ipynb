{
 "cells": [
  {
   "cell_type": "code",
   "execution_count": 13,
   "metadata": {},
   "outputs": [
    {
     "name": "stdout",
     "output_type": "stream",
     "text": [
      "19193456\t23452389\t9668810\n",
      "663726\t9048846\t4107215\n",
      "6178566\t6097931\t8733868\n",
      "8184873\t13389052\t6536081\n",
      "5933740\t15640897\t8593453\n",
      "1837912\t2946514\t9443662\n",
      "16864707\t22008180\t11071817\n",
      "13583494\t15294065\t657327\n",
      "18679314\t8042043\t11954734\n",
      "18679314\t8042040\t11954736\n",
      "18679314\t8042043\t11954739\n"
     ]
    }
   ],
   "source": [
    "parsed_file = \"test_file\"\n",
    "word_occurence_map = {}\n",
    "\n",
    "with open(parsed_file) as inp:\n",
    "    prev_line, prev_count = '', 0\n",
    "    for line in inp:\n",
    "        curr_line = \"\\t\".join(line.strip().split(\"\\t\")[:-1])\n",
    "        if curr_line == prev_line or (not prev_line):\n",
    "            prev_count += int(line.strip().split(\"\\t\")[-1])\n",
    "        else:\n",
    "            print (curr_line)\n",
    "            x, y, path = prev_line.split('\\t')\n",
    "            key = str(x) + '_' + str(y)\n",
    "            current = path + \":\" + str(prev_count)\n",
    "            if key in word_occurence_map:\n",
    "                pastkeys = word_occurence_map[key]\n",
    "                current =  pastkeys + ',' + current\n",
    "            word_occurence_map[key] = current\n",
    "            prev_count = 1\n",
    "        prev_line = curr_line\n",
    "    x, y, path = prev_line.split('\\t')\n",
    "    key = str(x) + '_' + str(y)\n",
    "    current = path + \":\" + str(prev_count)\n",
    "    if key in word_occurence_map:\n",
    "        pastkeys = word_occurence_map[key]\n",
    "        current =  pastkeys + ',' + current\n",
    "    word_occurence_map[key] = current\n",
    "    \n"
   ]
  },
  {
   "cell_type": "code",
   "execution_count": 23,
   "metadata": {},
   "outputs": [
    {
     "ename": "KeyboardInterrupt",
     "evalue": "",
     "output_type": "error",
     "traceback": [
      "\u001b[0;31m---------------------------------------------------------------------------\u001b[0m",
      "\u001b[0;31mKeyboardInterrupt\u001b[0m                         Traceback (most recent call last)",
      "\u001b[0;32m<ipython-input-23-32615c657697>\u001b[0m in \u001b[0;36m<module>\u001b[0;34m\u001b[0m\n\u001b[1;32m     19\u001b[0m                 \u001b[0;32mif\u001b[0m \u001b[0mk\u001b[0m \u001b[0;32mand\u001b[0m \u001b[0mp\u001b[0m\u001b[0;34m[\u001b[0m\u001b[0mk\u001b[0m\u001b[0;34m]\u001b[0m\u001b[0;34m:\u001b[0m\u001b[0;34m\u001b[0m\u001b[0;34m\u001b[0m\u001b[0m\n\u001b[0;32m---> 20\u001b[0;31m                     \u001b[0mdb\u001b[0m\u001b[0;34m[\u001b[0m\u001b[0mstr\u001b[0m\u001b[0;34m(\u001b[0m\u001b[0mk\u001b[0m\u001b[0;34m)\u001b[0m\u001b[0;34m]\u001b[0m \u001b[0;34m=\u001b[0m \u001b[0mstr\u001b[0m\u001b[0;34m(\u001b[0m\u001b[0mp\u001b[0m\u001b[0;34m[\u001b[0m\u001b[0mk\u001b[0m\u001b[0;34m]\u001b[0m\u001b[0;34m)\u001b[0m\u001b[0;34m\u001b[0m\u001b[0;34m\u001b[0m\u001b[0m\n\u001b[0m\u001b[1;32m     21\u001b[0m \u001b[0;34m\u001b[0m\u001b[0m\n",
      "\u001b[0;32m/usr/lib/python3.6/shelve.py\u001b[0m in \u001b[0;36m__setitem__\u001b[0;34m(self, key, value)\u001b[0m\n\u001b[1;32m    124\u001b[0m         \u001b[0mp\u001b[0m\u001b[0;34m.\u001b[0m\u001b[0mdump\u001b[0m\u001b[0;34m(\u001b[0m\u001b[0mvalue\u001b[0m\u001b[0;34m)\u001b[0m\u001b[0;34m\u001b[0m\u001b[0;34m\u001b[0m\u001b[0m\n\u001b[0;32m--> 125\u001b[0;31m         \u001b[0mself\u001b[0m\u001b[0;34m.\u001b[0m\u001b[0mdict\u001b[0m\u001b[0;34m[\u001b[0m\u001b[0mkey\u001b[0m\u001b[0;34m.\u001b[0m\u001b[0mencode\u001b[0m\u001b[0;34m(\u001b[0m\u001b[0mself\u001b[0m\u001b[0;34m.\u001b[0m\u001b[0mkeyencoding\u001b[0m\u001b[0;34m)\u001b[0m\u001b[0;34m]\u001b[0m \u001b[0;34m=\u001b[0m \u001b[0mf\u001b[0m\u001b[0;34m.\u001b[0m\u001b[0mgetvalue\u001b[0m\u001b[0;34m(\u001b[0m\u001b[0;34m)\u001b[0m\u001b[0;34m\u001b[0m\u001b[0;34m\u001b[0m\u001b[0m\n\u001b[0m\u001b[1;32m    126\u001b[0m \u001b[0;34m\u001b[0m\u001b[0m\n",
      "\u001b[0;31mKeyboardInterrupt\u001b[0m: ",
      "\nDuring handling of the above exception, another exception occurred:\n",
      "\u001b[0;31mKeyboardInterrupt\u001b[0m                         Traceback (most recent call last)",
      "\u001b[0;32m<ipython-input-23-32615c657697>\u001b[0m in \u001b[0;36m<module>\u001b[0;34m\u001b[0m\n\u001b[1;32m     18\u001b[0m \u001b[0;34m\u001b[0m\u001b[0m\n\u001b[1;32m     19\u001b[0m                 \u001b[0;32mif\u001b[0m \u001b[0mk\u001b[0m \u001b[0;32mand\u001b[0m \u001b[0mp\u001b[0m\u001b[0;34m[\u001b[0m\u001b[0mk\u001b[0m\u001b[0;34m]\u001b[0m\u001b[0;34m:\u001b[0m\u001b[0;34m\u001b[0m\u001b[0;34m\u001b[0m\u001b[0m\n\u001b[0;32m---> 20\u001b[0;31m                     \u001b[0mdb\u001b[0m\u001b[0;34m[\u001b[0m\u001b[0mstr\u001b[0m\u001b[0;34m(\u001b[0m\u001b[0mk\u001b[0m\u001b[0;34m)\u001b[0m\u001b[0;34m]\u001b[0m \u001b[0;34m=\u001b[0m \u001b[0mstr\u001b[0m\u001b[0;34m(\u001b[0m\u001b[0mp\u001b[0m\u001b[0;34m[\u001b[0m\u001b[0mk\u001b[0m\u001b[0;34m]\u001b[0m\u001b[0;34m)\u001b[0m\u001b[0;34m\u001b[0m\u001b[0;34m\u001b[0m\u001b[0m\n\u001b[0m\u001b[1;32m     21\u001b[0m \u001b[0;34m\u001b[0m\u001b[0m\n\u001b[1;32m     22\u001b[0m \u001b[0;34m\u001b[0m\u001b[0m\n",
      "\u001b[0;32m/usr/lib/python3.6/shelve.py\u001b[0m in \u001b[0;36m__exit__\u001b[0;34m(self, type, value, traceback)\u001b[0m\n\u001b[1;32m    136\u001b[0m \u001b[0;34m\u001b[0m\u001b[0m\n\u001b[1;32m    137\u001b[0m     \u001b[0;32mdef\u001b[0m \u001b[0m__exit__\u001b[0m\u001b[0;34m(\u001b[0m\u001b[0mself\u001b[0m\u001b[0;34m,\u001b[0m \u001b[0mtype\u001b[0m\u001b[0;34m,\u001b[0m \u001b[0mvalue\u001b[0m\u001b[0;34m,\u001b[0m \u001b[0mtraceback\u001b[0m\u001b[0;34m)\u001b[0m\u001b[0;34m:\u001b[0m\u001b[0;34m\u001b[0m\u001b[0;34m\u001b[0m\u001b[0m\n\u001b[0;32m--> 138\u001b[0;31m         \u001b[0mself\u001b[0m\u001b[0;34m.\u001b[0m\u001b[0mclose\u001b[0m\u001b[0;34m(\u001b[0m\u001b[0;34m)\u001b[0m\u001b[0;34m\u001b[0m\u001b[0;34m\u001b[0m\u001b[0m\n\u001b[0m\u001b[1;32m    139\u001b[0m \u001b[0;34m\u001b[0m\u001b[0m\n\u001b[1;32m    140\u001b[0m     \u001b[0;32mdef\u001b[0m \u001b[0mclose\u001b[0m\u001b[0;34m(\u001b[0m\u001b[0mself\u001b[0m\u001b[0;34m)\u001b[0m\u001b[0;34m:\u001b[0m\u001b[0;34m\u001b[0m\u001b[0;34m\u001b[0m\u001b[0m\n",
      "\u001b[0;32m/usr/lib/python3.6/shelve.py\u001b[0m in \u001b[0;36mclose\u001b[0;34m(self)\u001b[0m\n\u001b[1;32m    142\u001b[0m             \u001b[0;32mreturn\u001b[0m\u001b[0;34m\u001b[0m\u001b[0;34m\u001b[0m\u001b[0m\n\u001b[1;32m    143\u001b[0m         \u001b[0;32mtry\u001b[0m\u001b[0;34m:\u001b[0m\u001b[0;34m\u001b[0m\u001b[0;34m\u001b[0m\u001b[0m\n\u001b[0;32m--> 144\u001b[0;31m             \u001b[0mself\u001b[0m\u001b[0;34m.\u001b[0m\u001b[0msync\u001b[0m\u001b[0;34m(\u001b[0m\u001b[0;34m)\u001b[0m\u001b[0;34m\u001b[0m\u001b[0;34m\u001b[0m\u001b[0m\n\u001b[0m\u001b[1;32m    145\u001b[0m             \u001b[0;32mtry\u001b[0m\u001b[0;34m:\u001b[0m\u001b[0;34m\u001b[0m\u001b[0;34m\u001b[0m\u001b[0m\n\u001b[1;32m    146\u001b[0m                 \u001b[0mself\u001b[0m\u001b[0;34m.\u001b[0m\u001b[0mdict\u001b[0m\u001b[0;34m.\u001b[0m\u001b[0mclose\u001b[0m\u001b[0;34m(\u001b[0m\u001b[0;34m)\u001b[0m\u001b[0;34m\u001b[0m\u001b[0;34m\u001b[0m\u001b[0m\n",
      "\u001b[0;32m/usr/lib/python3.6/shelve.py\u001b[0m in \u001b[0;36msync\u001b[0;34m(self)\u001b[0m\n\u001b[1;32m    170\u001b[0m             \u001b[0mself\u001b[0m\u001b[0;34m.\u001b[0m\u001b[0mcache\u001b[0m \u001b[0;34m=\u001b[0m \u001b[0;34m{\u001b[0m\u001b[0;34m}\u001b[0m\u001b[0;34m\u001b[0m\u001b[0;34m\u001b[0m\u001b[0m\n\u001b[1;32m    171\u001b[0m         \u001b[0;32mif\u001b[0m \u001b[0mhasattr\u001b[0m\u001b[0;34m(\u001b[0m\u001b[0mself\u001b[0m\u001b[0;34m.\u001b[0m\u001b[0mdict\u001b[0m\u001b[0;34m,\u001b[0m \u001b[0;34m'sync'\u001b[0m\u001b[0;34m)\u001b[0m\u001b[0;34m:\u001b[0m\u001b[0;34m\u001b[0m\u001b[0;34m\u001b[0m\u001b[0m\n\u001b[0;32m--> 172\u001b[0;31m             \u001b[0mself\u001b[0m\u001b[0;34m.\u001b[0m\u001b[0mdict\u001b[0m\u001b[0;34m.\u001b[0m\u001b[0msync\u001b[0m\u001b[0;34m(\u001b[0m\u001b[0;34m)\u001b[0m\u001b[0;34m\u001b[0m\u001b[0;34m\u001b[0m\u001b[0m\n\u001b[0m\u001b[1;32m    173\u001b[0m \u001b[0;34m\u001b[0m\u001b[0m\n\u001b[1;32m    174\u001b[0m \u001b[0;34m\u001b[0m\u001b[0m\n",
      "\u001b[0;31mKeyboardInterrupt\u001b[0m: "
     ]
    }
   ],
   "source": [
    "import sys, shelve, picklw\n",
    "file = \"damru\"\n",
    "p = pickle.load(open(file, 'rb'))\n",
    "db_file = \".\".join(file.split(\".\")[:-1]) + \".db\" \n",
    "with shelve.open(db_file, 'c') as db:\n",
    "    for k in p:\n",
    "        try:\n",
    "            p[k] = p[k].decode(\"utf-8\")\n",
    "        except:\n",
    "            pass\n",
    "        try:\n",
    "            k = k.decode(\"utf-8\")\n",
    "        except:\n",
    "            pass\n",
    "\n",
    "        if k and p[k]:\n",
    "            db[str(k)] = str(p[k])\n",
    "print (\"db_file\", db_file, \"done\")"
   ]
  },
  {
   "cell_type": "code",
   "execution_count": 1,
   "metadata": {},
   "outputs": [],
   "source": [
    "completed_files = \"\"\"db_file security_threshold_3_8/security_relations_map.db done\n",
    "db_file security_threshold_3_10/security_relations_map.db done\n",
    "db_file security_threshold_3_4/security_relations_map.db done\n",
    "db_file security_threshold_3_6/security_relations_map.db done\n",
    "db_file security_threshold_3_15/security_relations_map.db done\n",
    "db_file security_threshold_7_10/security_relations_map.db done\n",
    "db_file security_threshold_7_30/security_relations_map.db done\n",
    "db_file security_threshold_7_4/security_relations_map.db done\n",
    "db_file security_threshold_7_8/security_relations_map.db done\n",
    "db_file security_threshold_7_6/security_relations_map.db done\n",
    "db_file security_threshold_7_15/security_relations_map.db done\n",
    "db_file security_threshold_5_8/security_relations_map.db done\n",
    "db_file security_threshold_5_6/security_relations_map.db done\"\"\"\n",
    "\n",
    "all_files = \"\"\"-rw-rw-r-- 1 vlead vlead 7191658496 Apr 16 06:00 security_threshold_10_10/security_relations_map.db\n",
    "-rw-rw-r-- 1 vlead vlead 2106208256 Apr 16 15:37 security_threshold_10_15/security_relations_map.db\n",
    "-rw-rw-r-- 1 vlead vlead 1817264128 Apr 16 15:37 security_threshold_10_30/security_relations_map.db\n",
    "-rw-rw-r-- 1 vlead vlead 2585493504 Apr 16 15:37 security_threshold_10_4/security_relations_map.db\n",
    "-rw-rw-r-- 1 vlead vlead 1807597568 Apr 16 15:37 security_threshold_10_6/security_relations_map.db\n",
    "-rw-rw-r-- 1 vlead vlead 2572136448 Apr 16 15:37 security_threshold_10_8/security_relations_map.db\n",
    "-rw-rw-r-- 1 vlead vlead 1650249728 Apr 16 15:37 security_threshold_12_10/security_relations_map.db\n",
    "-rw-rw-r-- 1 vlead vlead 2968449024 Apr 16 15:37 security_threshold_12_15/security_relations_map.db\n",
    "-rw-rw-r-- 1 vlead vlead 1815060480 Apr 16 15:37 security_threshold_12_30/security_relations_map.db\n",
    "-rw-rw-r-- 1 vlead vlead 1776738304 Apr 16 15:37 security_threshold_12_4/security_relations_map.db\n",
    "-rw-rw-r-- 1 vlead vlead 2283626496 Apr 16 15:37 security_threshold_12_6/security_relations_map.db\n",
    "-rw-rw-r-- 1 vlead vlead 2369228800 Apr 16 15:37 security_threshold_12_8/security_relations_map.db\n",
    "-rw-rw-r-- 1 vlead vlead 1719312384 Apr 16 15:37 security_threshold_15_10/security_relations_map.db\n",
    "-rw-rw-r-- 1 vlead vlead 2717384704 Apr 16 15:37 security_threshold_15_15/security_relations_map.db\n",
    "-rw-rw-r-- 1 vlead vlead 2779189248 Apr 16 15:37 security_threshold_15_30/security_relations_map.db\n",
    "-rw-rw-r-- 1 vlead vlead 1787883520 Apr 16 15:37 security_threshold_15_4/security_relations_map.db\n",
    "-rw-rw-r-- 1 vlead vlead 2766249984 Apr 16 15:37 security_threshold_15_6/security_relations_map.db\n",
    "-rw-rw-r-- 1 vlead vlead 2936958976 Apr 16 15:37 security_threshold_15_8/security_relations_map.db\n",
    "-rw-rw-r-- 1 vlead vlead 1858682880 Apr 16 15:37 security_threshold_20_10/security_relations_map.db\n",
    "-rw-rw-r-- 1 vlead vlead 2116255744 Apr 16 15:37 security_threshold_20_15/security_relations_map.db\n",
    "-rw-rw-r-- 1 vlead vlead 1622700032 Apr 16 15:37 security_threshold_20_30/security_relations_map.db\n",
    "-rw-rw-r-- 1 vlead vlead 1764642816 Apr 16 15:37 security_threshold_20_4/security_relations_map.db\n",
    "-rw-rw-r-- 1 vlead vlead 1969885184 Apr 16 15:37 security_threshold_20_6/security_relations_map.db\n",
    "-rw-rw-r-- 1 vlead vlead 2415542272 Apr 16 15:37 security_threshold_20_8/security_relations_map.db\n",
    "-rw-rw-r-- 1 vlead vlead 1578115072 Apr 16 15:37 security_threshold_25_10/security_relations_map.db\n",
    "-rw-rw-r-- 1 vlead vlead 1587240960 Apr 16 15:37 security_threshold_25_15/security_relations_map.db\n",
    "-rw-rw-r-- 1 vlead vlead 1588240384 Apr 16 15:37 security_threshold_25_30/security_relations_map.db\n",
    "-rw-rw-r-- 1 vlead vlead 1571401728 Apr 16 15:37 security_threshold_25_4/security_relations_map.db\n",
    "-rw-rw-r-- 1 vlead vlead 1769127936 Apr 16 15:37 security_threshold_25_6/security_relations_map.db\n",
    "-rw-rw-r-- 1 vlead vlead 2425806848 Apr 16 15:37 security_threshold_25_8/security_relations_map.db\n",
    "-rw-rw-r-- 1 vlead vlead      12288 Apr 16 06:59 security_threshold_3_10/security_relations_map.db\n",
    "-rw-rw-r-- 1 vlead vlead      12288 Apr 16 06:59 security_threshold_3_15/security_relations_map.db\n",
    "-rw-rw-r-- 1 vlead vlead      12288 Apr 16 06:59 security_threshold_3_4/security_relations_map.db\n",
    "-rw-rw-r-- 1 vlead vlead      12288 Apr 16 06:59 security_threshold_3_6/security_relations_map.db\n",
    "-rw-rw-r-- 1 vlead vlead      12288 Apr 16 06:59 security_threshold_3_8/security_relations_map.db\n",
    "-rw-rw-r-- 1 vlead vlead 1869680640 Apr 16 15:37 security_threshold_4_10/security_relations_map.db\n",
    "-rw-rw-r-- 1 vlead vlead 5675888640 Apr 16 15:37 security_threshold_4_15/security_relations_map.db\n",
    "-rw-rw-r-- 1 vlead vlead 5366837248 Apr 16 15:37 security_threshold_4_30/security_relations_map.db\n",
    "-rw-rw-r-- 1 vlead vlead 5314387968 Apr 16 15:37 security_threshold_4_4/security_relations_map.db\n",
    "-rw-rw-r-- 1 vlead vlead 6918279168 Apr 16 15:37 security_threshold_4_6/security_relations_map.db\n",
    "-rw-rw-r-- 1 vlead vlead 3676905472 Apr 16 15:37 security_threshold_4_8/security_relations_map.db\n",
    "-rw-rw-r-- 1 vlead vlead 3756224512 Apr 16 15:37 security_threshold_50_10/security_relations_map.db\n",
    "-rw-rw-r-- 1 vlead vlead 5083078656 Apr 16 15:37 security_threshold_50_15/security_relations_map.db\n",
    "-rw-rw-r-- 1 vlead vlead 4478525440 Apr 16 15:37 security_threshold_50_30/security_relations_map.db\n",
    "-rw-rw-r-- 1 vlead vlead 5521424384 Apr 16 15:37 security_threshold_50_4/security_relations_map.db\n",
    "-rw-rw-r-- 1 vlead vlead 3211071488 Apr 16 15:37 security_threshold_50_6/security_relations_map.db\n",
    "-rw-rw-r-- 1 vlead vlead 2976628736 Apr 16 15:37 security_threshold_50_8/security_relations_map.db\n",
    "-rw-rw-r-- 1 vlead vlead 2801909760 Apr 16 15:37 security_threshold_5_10/security_relations_map.db\n",
    "-rw-rw-r-- 1 vlead vlead 7253737472 Apr 16 15:37 security_threshold_5_15/security_relations_map.db\n",
    "-rw-rw-r-- 1 vlead vlead 7273426944 Apr 16 15:37 security_threshold_5_30/security_relations_map.db\n",
    "-rw-rw-r-- 1 vlead vlead 7275110400 Apr 16 15:37 security_threshold_5_4/security_relations_map.db\n",
    "-rw-rw-r-- 1 vlead vlead 7398264832 Apr 16 13:25 security_threshold_5_6/security_relations_map.db\n",
    "-rw-rw-r-- 1 vlead vlead 7401832448 Apr 16 12:53 security_threshold_5_8/security_relations_map.db\n",
    "-rw-rw-r-- 1 vlead vlead 7262851072 Apr 16 09:33 security_threshold_7_10/security_relations_map.db\n",
    "-rw-rw-r-- 1 vlead vlead 7259885568 Apr 16 12:16 security_threshold_7_15/security_relations_map.db\n",
    "-rw-rw-r-- 1 vlead vlead 7258484736 Apr 16 10:22 security_threshold_7_30/security_relations_map.db\n",
    "-rw-rw-r-- 1 vlead vlead 7247130624 Apr 16 10:28 security_threshold_7_4/security_relations_map.db\n",
    "-rw-rw-r-- 1 vlead vlead 7257264128 Apr 16 11:37 security_threshold_7_6/security_relations_map.db\n",
    "-rw-rw-r-- 1 vlead vlead 7260504064 Apr 16 11:17 security_threshold_7_8/security_relations_map.db\"\"\"\n",
    "\n",
    "completed_files = [l.split()[1] for l in completed_files.split(\"\\n\")] \n",
    "all_files = [l.split()[-1] for l in all_files.split(\"\\n\")] \n",
    "incomplete_files = [file for file in all_files if file not in completed_files]"
   ]
  },
  {
   "cell_type": "code",
   "execution_count": 5,
   "metadata": {},
   "outputs": [],
   "source": [
    "for f in incomplete_files:\n",
    "    !rm ../junk/Files/$f"
   ]
  },
  {
   "cell_type": "code",
   "execution_count": 9,
   "metadata": {},
   "outputs": [
    {
     "data": {
      "text/plain": [
       "336853"
      ]
     },
     "execution_count": 9,
     "metadata": {},
     "output_type": "execute_result"
    }
   ],
   "source": [
    "dataset = open(\"../files/dataset/dataset.tsv\").read().split(\"\\n\")\n",
    "dataset_t = [l for l in dataset if l.split(\"\\t\")[-1]!=\"none\"]\n",
    "dataset_f = [l for l in dataset if l.split(\"\\t\")[-1]==\"none\"]\n",
    "import random\n",
    "dataset_t_mini = random.choices(dataset_t, k=int(0.1 * len(dataset_t)))\n",
    "dataset_f_mini = random.choices(dataset_f, k=10000-int(0.1 * len(dataset_t)))\n",
    "dataset_mini = dataset_t_mini + dataset_f_mini\n",
    "random.shuffle(dataset_mini)\n",
    "open(\"../files/dataset/dataset_mini.tsv\",\"w+\").write(\"\\n\".join(dataset_mini))"
   ]
  },
  {
   "cell_type": "code",
   "execution_count": 6,
   "metadata": {},
   "outputs": [
    {
     "data": {
      "text/plain": [
       "9240"
      ]
     },
     "execution_count": 6,
     "metadata": {},
     "output_type": "execute_result"
    }
   ],
   "source": [
    "len(dataset_f_mini)"
   ]
  },
  {
   "cell_type": "code",
   "execution_count": null,
   "metadata": {},
   "outputs": [],
   "source": []
  }
 ],
 "metadata": {
  "kernelspec": {
   "display_name": "Python 3",
   "language": "python",
   "name": "python3"
  },
  "language_info": {
   "codemirror_mode": {
    "name": "ipython",
    "version": 3
   },
   "file_extension": ".py",
   "mimetype": "text/x-python",
   "name": "python",
   "nbconvert_exporter": "python",
   "pygments_lexer": "ipython3",
   "version": "3.6.10"
  }
 },
 "nbformat": 4,
 "nbformat_minor": 4
}
